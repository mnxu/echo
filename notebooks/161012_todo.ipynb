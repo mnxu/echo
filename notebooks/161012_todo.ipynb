{
 "cells": [
  {
   "cell_type": "markdown",
   "metadata": {},
   "source": [
    "__To Do List for Data Scientists__\n",
    "\n",
    "+ How many patients have echo in first 48hour of ICU hospitalization? \n",
    "+ What is the distribution of echoes by hospitalization day? \n",
    "+ How many patients have outpatient pre-hospitalization echo and ICU hospitalization echo? \n",
    "+ We need to create two new variables: \n",
    "    1. Decrement in EF \n",
    "    2. Time difference between the two echoes\n",
    "+ How many patients have post-hospitalization echo. Also need the delta in EF and time difference variables. Graphical distribution of duration and decrement/increment in EF\n",
    "+ Summary statistics (descriptive) for all people with echo:\n",
    "    1. how many people were on dialysis \n",
    "    2. how many people were on ventilator \n",
    "    3. what were the different diagnoses for ICU admission \n",
    "    4. average ICU length of stay \n",
    "    5. mortality in ICU \n",
    "    6. mortality in hospital \n",
    "    7. 30 day mortality \n",
    "    8. how many people carry a diagnosis of heart failure \n",
    "    9. number of secondary diagnosis \n",
    "    10. age and gender distribution \n",
    "    11. How many people had a BNP or NTproBNP sent?\n",
    "    12. How many people had a troponin-I or troponin-T sent? \n",
    "    13. number of people with valvular heart disease that is moderate or above\n",
    "+ Also since kidney function will be a crucial element of our analysis of ejection function and fluid management, we need to better understand their kidney function. Please pull out distribution of: \n",
    "    1. baseline Creatinine (Cr) prior to the admission. \n",
    "    2. ICU Cr on the day of the echo \n",
    "    3. Cr measurement post ICU discharge"
   ]
  },
  {
   "cell_type": "code",
   "execution_count": 1,
   "metadata": {
    "collapsed": false
   },
   "outputs": [],
   "source": [
    "import numpy as np\n",
    "import pandas as pd\n",
    "import psycopg2\n",
    "\n",
    "import matplotlib.pyplot as plt\n",
    "\n",
    "import matplotlib.style\n",
    "matplotlib.style.use('ggplot')\n",
    "%matplotlib inline"
   ]
  },
  {
   "cell_type": "code",
   "execution_count": 133,
   "metadata": {
    "collapsed": true
   },
   "outputs": [],
   "source": [
    "# create a database connection\n",
    "sqluser = 'mimic'\n",
    "dbname = 'mimic'\n",
    "schema_name = 'mimiciii'\n",
    "\n",
    "con = psycopg2.connect(dbname = dbname, user = sqluser)\n",
    "cur = con.cursor()\n",
    "cur.execute('SET search_path to ' + schema_name)"
   ]
  },
  {
   "cell_type": "markdown",
   "metadata": {},
   "source": [
    "## Number of patients with echos within 48 hours of ICU hospitalization\n",
    "\n",
    "Echos are associated with hadm_ids (hospital admission ids) and not to icustay_ids (ICU stay ids). Echos however have a time stamp within the report. Here, associate each echo report to an ICU stay by cross-referencing the echos vs. icustays using hadm_ids, and then selecting the ICU stay during which the echo was done. "
   ]
  },
  {
   "cell_type": "code",
   "execution_count": 146,
   "metadata": {
    "collapsed": false
   },
   "outputs": [
    {
     "data": {
      "text/html": [
       "<div>\n",
       "<table border=\"1\" class=\"dataframe\">\n",
       "  <thead>\n",
       "    <tr style=\"text-align: right;\">\n",
       "      <th></th>\n",
       "      <th>hadm_id</th>\n",
       "      <th>row_id</th>\n",
       "      <th>subject_id</th>\n",
       "      <th>echo_time</th>\n",
       "      <th>text</th>\n",
       "      <th>intime</th>\n",
       "      <th>outtime</th>\n",
       "      <th>this_icu</th>\n",
       "      <th>time_to_echo</th>\n",
       "    </tr>\n",
       "  </thead>\n",
       "  <tbody>\n",
       "    <tr>\n",
       "      <th>0</th>\n",
       "      <td>100797</td>\n",
       "      <td>77979</td>\n",
       "      <td>13302</td>\n",
       "      <td>2116-07-24 14:23:00</td>\n",
       "      <td>PATIENT/TEST INFORMATION:\\nIndication: Pericar...</td>\n",
       "      <td>2116-07-01 17:58:26</td>\n",
       "      <td>2116-07-26 06:48:33</td>\n",
       "      <td>1</td>\n",
       "      <td>22 days 20:24:34</td>\n",
       "    </tr>\n",
       "    <tr>\n",
       "      <th>1</th>\n",
       "      <td>100797</td>\n",
       "      <td>77980</td>\n",
       "      <td>13302</td>\n",
       "      <td>2116-07-02 14:59:00</td>\n",
       "      <td>PATIENT/TEST INFORMATION:\\nIndication: Left ve...</td>\n",
       "      <td>2116-07-01 17:58:26</td>\n",
       "      <td>2116-07-26 06:48:33</td>\n",
       "      <td>1</td>\n",
       "      <td>0 days 21:00:34</td>\n",
       "    </tr>\n",
       "    <tr>\n",
       "      <th>2</th>\n",
       "      <td>177652</td>\n",
       "      <td>77943</td>\n",
       "      <td>20232</td>\n",
       "      <td>2132-03-20 11:17:00</td>\n",
       "      <td>PATIENT/TEST INFORMATION:\\nIndication: Left ve...</td>\n",
       "      <td>2132-03-19 23:31:31</td>\n",
       "      <td>2132-03-22 11:22:16</td>\n",
       "      <td>1</td>\n",
       "      <td>0 days 11:45:29</td>\n",
       "    </tr>\n",
       "    <tr>\n",
       "      <th>3</th>\n",
       "      <td>175064</td>\n",
       "      <td>77944</td>\n",
       "      <td>11201</td>\n",
       "      <td>2122-02-05 14:56:00</td>\n",
       "      <td>PATIENT/TEST INFORMATION:\\nIndication: Left ve...</td>\n",
       "      <td>2122-01-15 06:42:50</td>\n",
       "      <td>2122-02-11 12:17:52</td>\n",
       "      <td>1</td>\n",
       "      <td>21 days 08:13:10</td>\n",
       "    </tr>\n",
       "    <tr>\n",
       "      <th>4</th>\n",
       "      <td>175064</td>\n",
       "      <td>77945</td>\n",
       "      <td>11201</td>\n",
       "      <td>2122-01-16 11:45:00</td>\n",
       "      <td>PATIENT/TEST INFORMATION:\\nIndication: Shortne...</td>\n",
       "      <td>2122-01-15 06:42:50</td>\n",
       "      <td>2122-02-11 12:17:52</td>\n",
       "      <td>1</td>\n",
       "      <td>1 days 05:02:10</td>\n",
       "    </tr>\n",
       "  </tbody>\n",
       "</table>\n",
       "</div>"
      ],
      "text/plain": [
       "   hadm_id  row_id  subject_id           echo_time  \\\n",
       "0   100797   77979       13302 2116-07-24 14:23:00   \n",
       "1   100797   77980       13302 2116-07-02 14:59:00   \n",
       "2   177652   77943       20232 2132-03-20 11:17:00   \n",
       "3   175064   77944       11201 2122-02-05 14:56:00   \n",
       "4   175064   77945       11201 2122-01-16 11:45:00   \n",
       "\n",
       "                                                text              intime  \\\n",
       "0  PATIENT/TEST INFORMATION:\\nIndication: Pericar... 2116-07-01 17:58:26   \n",
       "1  PATIENT/TEST INFORMATION:\\nIndication: Left ve... 2116-07-01 17:58:26   \n",
       "2  PATIENT/TEST INFORMATION:\\nIndication: Left ve... 2132-03-19 23:31:31   \n",
       "3  PATIENT/TEST INFORMATION:\\nIndication: Left ve... 2122-01-15 06:42:50   \n",
       "4  PATIENT/TEST INFORMATION:\\nIndication: Shortne... 2122-01-15 06:42:50   \n",
       "\n",
       "              outtime  this_icu     time_to_echo  \n",
       "0 2116-07-26 06:48:33         1 22 days 20:24:34  \n",
       "1 2116-07-26 06:48:33         1  0 days 21:00:34  \n",
       "2 2132-03-22 11:22:16         1  0 days 11:45:29  \n",
       "3 2122-02-11 12:17:52         1 21 days 08:13:10  \n",
       "4 2122-02-11 12:17:52         1  1 days 05:02:10  "
      ]
     },
     "execution_count": 146,
     "metadata": {},
     "output_type": "execute_result"
    }
   ],
   "source": [
    "query = \\\n",
    "\"\"\"\n",
    "WITH echos AS (\n",
    "-- parse echo report to get echo_time\n",
    "    SELECT hadm_id, row_id, subject_id, text,\n",
    "    -- timestamp for echo\n",
    "    to_timestamp(\n",
    "        regexp_replace(regexp_replace(regexp_replace(\n",
    "            substring(text from 'Date/Time:.*?\\n'), \n",
    "            'Date/Time: ...', ''), '... at', ''), '\\n', ''), \n",
    "        'YYYY-MM-DD HH24:MI')::timestamp without time zone AS echo_time  \n",
    "    FROM noteevents\n",
    "    WHERE category = 'Echo'), \n",
    "-- merge with icustays, get icustay timestamps, and calculate timedeltas wrt echo_time    \n",
    "    this_echo AS (\n",
    "    SELECT ec.hadm_id, ec.row_id, ec.subject_id, ec.echo_time, ec.text,\n",
    "        ie.intime, ie.outtime, \n",
    "        CASE \n",
    "        WHEN ((ec.echo_time > ie.intime) AND \n",
    "            (ec.echo_time < ie.outtime)) \n",
    "        THEN 1 ELSE 0 END AS this_icu, \n",
    "        ec.echo_time - ie.intime AS time_to_echo\n",
    "    FROM echos ec\n",
    "    INNER JOIN icustays ie\n",
    "        ON ie.hadm_id = ec.hadm_id)\n",
    "SELECT * \n",
    "FROM this_echo\n",
    "WHERE this_icu = 1\n",
    "\"\"\"\n",
    "\n",
    "icu_echos = pd.read_sql_query(query, con)\n",
    "icu_echos.head()"
   ]
  },
  {
   "cell_type": "code",
   "execution_count": 63,
   "metadata": {
    "collapsed": false
   },
   "outputs": [
    {
     "data": {
      "text/plain": [
       "(22169, 7)"
      ]
     },
     "execution_count": 63,
     "metadata": {},
     "output_type": "execute_result"
    }
   ],
   "source": [
    "icu_echos.shape"
   ]
  },
  {
   "cell_type": "markdown",
   "metadata": {},
   "source": [
    "Of the echos which are associated to an ICU stay, how many were done within 48 hours of admission to the ICU? "
   ]
  },
  {
   "cell_type": "code",
   "execution_count": 47,
   "metadata": {
    "collapsed": false
   },
   "outputs": [
    {
     "data": {
      "text/plain": [
       "True     15468\n",
       "False     6701\n",
       "Name: time_to_echo, dtype: int64"
      ]
     },
     "execution_count": 47,
     "metadata": {},
     "output_type": "execute_result"
    }
   ],
   "source": [
    "(data['time_to_echo'] < pd.Timedelta(hours = 48)).value_counts()"
   ]
  },
  {
   "cell_type": "markdown",
   "metadata": {},
   "source": [
    "## Number of patients with echos who also have sepsis\n",
    "\n",
    "Using the code available from the repo to get hadm_id -> sepsis"
   ]
  },
  {
   "cell_type": "code",
   "execution_count": 64,
   "metadata": {
    "collapsed": false
   },
   "outputs": [
    {
     "data": {
      "text/html": [
       "<div>\n",
       "<table border=\"1\" class=\"dataframe\">\n",
       "  <thead>\n",
       "    <tr style=\"text-align: right;\">\n",
       "      <th></th>\n",
       "      <th>subject_id</th>\n",
       "      <th>hadm_id</th>\n",
       "      <th>infection</th>\n",
       "      <th>explicit_sepsis</th>\n",
       "      <th>organ_dysfunction</th>\n",
       "      <th>mech_vent</th>\n",
       "      <th>angus</th>\n",
       "    </tr>\n",
       "  </thead>\n",
       "  <tbody>\n",
       "    <tr>\n",
       "      <th>0</th>\n",
       "      <td>22</td>\n",
       "      <td>165315</td>\n",
       "      <td>0</td>\n",
       "      <td>0</td>\n",
       "      <td>0</td>\n",
       "      <td>1</td>\n",
       "      <td>0</td>\n",
       "    </tr>\n",
       "    <tr>\n",
       "      <th>1</th>\n",
       "      <td>23</td>\n",
       "      <td>152223</td>\n",
       "      <td>0</td>\n",
       "      <td>0</td>\n",
       "      <td>0</td>\n",
       "      <td>0</td>\n",
       "      <td>0</td>\n",
       "    </tr>\n",
       "    <tr>\n",
       "      <th>2</th>\n",
       "      <td>23</td>\n",
       "      <td>124321</td>\n",
       "      <td>0</td>\n",
       "      <td>0</td>\n",
       "      <td>0</td>\n",
       "      <td>0</td>\n",
       "      <td>0</td>\n",
       "    </tr>\n",
       "    <tr>\n",
       "      <th>3</th>\n",
       "      <td>24</td>\n",
       "      <td>161859</td>\n",
       "      <td>0</td>\n",
       "      <td>0</td>\n",
       "      <td>0</td>\n",
       "      <td>0</td>\n",
       "      <td>0</td>\n",
       "    </tr>\n",
       "    <tr>\n",
       "      <th>4</th>\n",
       "      <td>25</td>\n",
       "      <td>129635</td>\n",
       "      <td>0</td>\n",
       "      <td>0</td>\n",
       "      <td>0</td>\n",
       "      <td>0</td>\n",
       "      <td>0</td>\n",
       "    </tr>\n",
       "  </tbody>\n",
       "</table>\n",
       "</div>"
      ],
      "text/plain": [
       "   subject_id  hadm_id  infection  explicit_sepsis  organ_dysfunction  \\\n",
       "0          22   165315          0                0                  0   \n",
       "1          23   152223          0                0                  0   \n",
       "2          23   124321          0                0                  0   \n",
       "3          24   161859          0                0                  0   \n",
       "4          25   129635          0                0                  0   \n",
       "\n",
       "   mech_vent  angus  \n",
       "0          1      0  \n",
       "1          0      0  \n",
       "2          0      0  \n",
       "3          0      0  \n",
       "4          0      0  "
      ]
     },
     "execution_count": 64,
     "metadata": {},
     "output_type": "execute_result"
    }
   ],
   "source": [
    "query = \\\n",
    "\"\"\"\n",
    "-- ICD-9 codes for Angus criteria of sepsis\n",
    "\n",
    "-- Angus et al, 2001. Epidemiology of severe sepsis in the United States\n",
    "-- http://www.ncbi.nlm.nih.gov/pubmed/11445675\n",
    "\n",
    "-- Case selection and definitions\n",
    "-- To identify cases with severe sepsis, we selected all acute care\n",
    "-- hospitalizations with ICD-9-CM codes for both:\n",
    "-- (a) a bacterial or fungal infectious process AND\n",
    "-- (b) a diagnosis of acute organ dysfunction (Appendix 2).\n",
    "\n",
    "-- Appendix 1: ICD9-codes (infection)\n",
    "\n",
    "WITH infection_group AS (\n",
    "    SELECT subject_id, hadm_id,\n",
    "    CASE\n",
    "        WHEN substring(icd9_code,1,3) IN ('001','002','003','004','005','008',\n",
    "               '009','010','011','012','013','014','015','016','017','018',\n",
    "               '020','021','022','023','024','025','026','027','030','031',\n",
    "               '032','033','034','035','036','037','038','039','040','041',\n",
    "               '090','091','092','093','094','095','096','097','098','100',\n",
    "               '101','102','103','104','110','111','112','114','115','116',\n",
    "               '117','118','320','322','324','325','420','421','451','461',\n",
    "               '462','463','464','465','481','482','485','486','494','510',\n",
    "               '513','540','541','542','566','567','590','597','601','614',\n",
    "               '615','616','681','682','683','686','730') THEN 1\n",
    "        WHEN substring(icd9_code,1,4) IN ('5695','5720','5721','5750','5990','7110',\n",
    "                '7907','9966','9985','9993') THEN 1\n",
    "        WHEN substring(icd9_code,1,5) IN ('49121','56201','56203','56211','56213',\n",
    "                '56983') THEN 1\n",
    "        ELSE 0 END AS infection\n",
    "    FROM MIMICIII.DIAGNOSES_ICD),\n",
    "-- Appendix 2: ICD9-codes (organ dysfunction)\n",
    "    organ_diag_group as (\n",
    "    SELECT subject_id, hadm_id,\n",
    "        CASE\n",
    "        -- Acute Organ Dysfunction Diagnosis Codes\n",
    "        WHEN substring(icd9_code,1,3) IN ('458','293','570','584') THEN 1\n",
    "        WHEN substring(icd9_code,1,4) IN ('7855','3483','3481',\n",
    "                '2874','2875','2869','2866','5734')  THEN 1\n",
    "        ELSE 0 END AS organ_dysfunction,\n",
    "        -- Explicit diagnosis of severe sepsis or septic shock\n",
    "        CASE\n",
    "        WHEN substring(icd9_code,1,5) IN ('99592','78552')  THEN 1\n",
    "        ELSE 0 END AS explicit_sepsis\n",
    "    FROM MIMICIII.DIAGNOSES_ICD),\n",
    "\n",
    "-- Mechanical ventilation\n",
    "    organ_proc_group as (\n",
    "    SELECT subject_id, hadm_id,\n",
    "        CASE\n",
    "        WHEN substring(icd9_code,1,4) IN ('9670','9671','9672') THEN 1\n",
    "        ELSE 0 END AS mech_vent\n",
    "    FROM MIMICIII.PROCEDURES_ICD),\n",
    "\n",
    "-- Aggregate\n",
    "    aggregate as (\n",
    "    SELECT subject_id, hadm_id,\n",
    "        CASE\n",
    "        WHEN hadm_id in (SELECT DISTINCT hadm_id\n",
    "                FROM infection_group\n",
    "                WHERE infection = 1) THEN 1\n",
    "            ELSE 0 END AS infection,\n",
    "        CASE\n",
    "        WHEN hadm_id in (SELECT DISTINCT hadm_id\n",
    "                FROM organ_diag_group\n",
    "                WHERE explicit_sepsis = 1) THEN 1\n",
    "            ELSE 0 END AS explicit_sepsis,\n",
    "        CASE\n",
    "        WHEN hadm_id in (SELECT DISTINCT hadm_id\n",
    "                FROM organ_diag_group\n",
    "                WHERE organ_dysfunction = 1) THEN 1\n",
    "            ELSE 0 END AS organ_dysfunction,\n",
    "        CASE\n",
    "        WHEN hadm_id in (SELECT DISTINCT hadm_id\n",
    "                FROM organ_proc_group\n",
    "                WHERE mech_vent = 1) THEN 1\n",
    "            ELSE 0 END AS mech_vent\n",
    "    FROM MIMICIII.ADMISSIONS)\n",
    "-- List angus score for each admission\n",
    "SELECT subject_id, hadm_id, infection,\n",
    "       explicit_sepsis, organ_dysfunction, mech_vent,\n",
    "    CASE\n",
    "    WHEN explicit_sepsis = 1 THEN 1\n",
    "    WHEN infection = 1 AND organ_dysfunction = 1 THEN 1\n",
    "    WHEN infection = 1 AND mech_vent = 1 THEN 1\n",
    "    ELSE 0 END AS Angus\n",
    "FROM aggregate;\n",
    "\n",
    "\"\"\"\n",
    "\n",
    "angus = pd.read_sql_query(query, con)\n",
    "angus.head()"
   ]
  },
  {
   "cell_type": "code",
   "execution_count": 167,
   "metadata": {
    "collapsed": false
   },
   "outputs": [
    {
     "data": {
      "text/plain": [
       "7091"
      ]
     },
     "execution_count": 167,
     "metadata": {},
     "output_type": "execute_result"
    }
   ],
   "source": [
    "len(set(angus.loc[angus['angus'] == 1, 'hadm_id']) & \n",
    "    set(icu_echos['hadm_id']))"
   ]
  },
  {
   "cell_type": "markdown",
   "metadata": {},
   "source": [
    "Alternatively, look at indication in echo report. "
   ]
  },
  {
   "cell_type": "markdown",
   "metadata": {},
   "source": [
    "## Distribution of number of echos by hospitalization day"
   ]
  },
  {
   "cell_type": "code",
   "execution_count": 67,
   "metadata": {
    "collapsed": false
   },
   "outputs": [
    {
     "data": {
      "image/png": "[encoded data removed]",
      "text/plain": [
       "<matplotlib.figure.Figure at 0x148047c50>"
      ]
     },
     "metadata": {},
     "output_type": "display_data"
    }
   ],
   "source": [
    "icu_echos['time_to_echo'].apply(lambda dt: dt.days).value_counts().sort_index().plot(kind = 'bar')\n",
    "_ = plt.xlim([-0.5, 14.5])"
   ]
  },
  {
   "cell_type": "markdown",
   "metadata": {},
   "source": [
    "## Number of patients with outpatient pre-hospitalization echo and ICU hospitalization echo\n",
    "\n",
    "+ Echo reports have a status which is either Inpatient or Outpatient\n",
    "+ Some echos also don't have hadm_ids, and are presumably outpatient"
   ]
  },
  {
   "cell_type": "code",
   "execution_count": 147,
   "metadata": {
    "collapsed": false
   },
   "outputs": [
    {
     "data": {
      "text/html": [
       "<div>\n",
       "<table border=\"1\" class=\"dataframe\">\n",
       "  <thead>\n",
       "    <tr style=\"text-align: right;\">\n",
       "      <th></th>\n",
       "      <th>row_id</th>\n",
       "      <th>hadm_id</th>\n",
       "      <th>subject_id</th>\n",
       "      <th>echo_status</th>\n",
       "      <th>echo_time</th>\n",
       "    </tr>\n",
       "  </thead>\n",
       "  <tbody>\n",
       "    <tr>\n",
       "      <th>0</th>\n",
       "      <td>77922</td>\n",
       "      <td>NaN</td>\n",
       "      <td>7949</td>\n",
       "      <td>Outpatient</td>\n",
       "      <td>2124-08-31 14:00:00</td>\n",
       "    </tr>\n",
       "    <tr>\n",
       "      <th>1</th>\n",
       "      <td>78193</td>\n",
       "      <td>NaN</td>\n",
       "      <td>25929</td>\n",
       "      <td>Outpatient</td>\n",
       "      <td>2201-06-04 13:42:00</td>\n",
       "    </tr>\n",
       "    <tr>\n",
       "      <th>2</th>\n",
       "      <td>78194</td>\n",
       "      <td>NaN</td>\n",
       "      <td>25929</td>\n",
       "      <td>Outpatient</td>\n",
       "      <td>2200-05-14 11:00:00</td>\n",
       "    </tr>\n",
       "    <tr>\n",
       "      <th>6</th>\n",
       "      <td>77565</td>\n",
       "      <td>NaN</td>\n",
       "      <td>12556</td>\n",
       "      <td>Outpatient</td>\n",
       "      <td>2164-08-06 10:00:00</td>\n",
       "    </tr>\n",
       "    <tr>\n",
       "      <th>9</th>\n",
       "      <td>77768</td>\n",
       "      <td>NaN</td>\n",
       "      <td>51754</td>\n",
       "      <td>Outpatient</td>\n",
       "      <td>2101-07-04 14:00:00</td>\n",
       "    </tr>\n",
       "  </tbody>\n",
       "</table>\n",
       "</div>"
      ],
      "text/plain": [
       "   row_id  hadm_id  subject_id echo_status           echo_time\n",
       "0   77922      NaN        7949  Outpatient 2124-08-31 14:00:00\n",
       "1   78193      NaN       25929  Outpatient 2201-06-04 13:42:00\n",
       "2   78194      NaN       25929  Outpatient 2200-05-14 11:00:00\n",
       "6   77565      NaN       12556  Outpatient 2164-08-06 10:00:00\n",
       "9   77768      NaN       51754  Outpatient 2101-07-04 14:00:00"
      ]
     },
     "execution_count": 147,
     "metadata": {},
     "output_type": "execute_result"
    }
   ],
   "source": [
    "query = \\\n",
    "\"\"\"\n",
    "WITH this_echo AS (\n",
    "    SELECT row_id, hadm_id, subject_id,\n",
    "        regexp_replace(regexp_replace(substring(text, 'Status:.+?\\n'), 'Status: ', ''), '\\n', '') AS echo_status, \n",
    "        to_timestamp(\n",
    "        regexp_replace(regexp_replace(regexp_replace(\n",
    "            substring(text from 'Date/Time:.*?\\n'), \n",
    "            'Date/Time: ...', ''), '... at', ''), '\\n', ''), \n",
    "        'YYYY-MM-DD HH24:MI')::timestamp without time zone AS echo_time  \n",
    "    FROM noteevents\n",
    "    WHERE category = 'Echo'\n",
    ")\n",
    "SELECT * FROM this_echo\n",
    "WHERE echo_status = 'Outpatient';\n",
    "\"\"\"\n",
    "\n",
    "outpatient_echos = pd.read_sql_query(query, con)\n",
    "outpatient_echos = outpatient_echos.loc[outpatient_echos['hadm_id'].isnull()] \n",
    "outpatient_echos.head()"
   ]
  },
  {
   "cell_type": "markdown",
   "metadata": {},
   "source": [
    "Presumably, we are only interested in the earliest icu stay for any particular patient. "
   ]
  },
  {
   "cell_type": "code",
   "execution_count": 153,
   "metadata": {
    "collapsed": false
   },
   "outputs": [
    {
     "data": {
      "text/plain": [
       "False    2480\n",
       "True      907\n",
       "dtype: int64"
      ]
     },
     "execution_count": 153,
     "metadata": {},
     "output_type": "execute_result"
    }
   ],
   "source": [
    "res = icu_echos.sort_values('echo_time').groupby('subject_id').first().reset_index().merge(\n",
    "    outpatient_echos, left_on = 'subject_id', right_on = 'subject_id', \n",
    "    suffixes = ['.icu', '.outpatient']\n",
    ")\n",
    "# number of patients where the timestamp on the outpatient echo is earlier than the earliest icu echo\n",
    "(res['echo_time.outpatient'] < res['echo_time.icu']).value_counts()"
   ]
  },
  {
   "cell_type": "markdown",
   "metadata": {},
   "source": [
    "## Number of patients with outpatient(?) post-hospitalization echo and ICU hospitalization echo\n",
    "\n",
    "I noticed that there are some patients that seem to have echos at the start of their ICU stay, and at the end. Should these be included as well? Instead, ask for each patient, the number of ICU echos they have, the number of outpatient echos they have, and how many echos they have altogether (including non-ICU, inpatient echos). "
   ]
  },
  {
   "cell_type": "code",
   "execution_count": 158,
   "metadata": {
    "collapsed": false
   },
   "outputs": [
    {
     "data": {
      "text/plain": [
       "<matplotlib.text.Text at 0x172ad9da0>"
      ]
     },
     "execution_count": 158,
     "metadata": {},
     "output_type": "execute_result"
    },
    {
     "data": {
      "image/png": "[encoded data removed]",
      "text/plain": [
       "<matplotlib.figure.Figure at 0x172b156a0>"
      ]
     },
     "metadata": {},
     "output_type": "display_data"
    }
   ],
   "source": [
    "icu_echos['subject_id'].value_counts().value_counts().sort_index().plot(kind = 'bar')\n",
    "plt.xlabel('Number of ICU echos')\n",
    "plt.ylabel('Number of patients')"
   ]
  },
  {
   "cell_type": "code",
   "execution_count": 159,
   "metadata": {
    "collapsed": false
   },
   "outputs": [
    {
     "data": {
      "text/plain": [
       "<matplotlib.text.Text at 0x171f09ef0>"
      ]
     },
     "execution_count": 159,
     "metadata": {},
     "output_type": "execute_result"
    },
    {
     "data": {
      "image/png": "[encoded data removed]",
      "text/plain": [
       "<matplotlib.figure.Figure at 0x170120780>"
      ]
     },
     "metadata": {},
     "output_type": "display_data"
    }
   ],
   "source": [
    "outpatient_echos['subject_id'].value_counts().value_counts().sort_index().plot(kind = 'bar')\n",
    "plt.xlabel('Number of outpatient echos')\n",
    "plt.ylabel('Number of patients')"
   ]
  },
  {
   "cell_type": "code",
   "execution_count": 161,
   "metadata": {
    "collapsed": false
   },
   "outputs": [
    {
     "data": {
      "text/plain": [
       "<matplotlib.text.Text at 0x171cb8240>"
      ]
     },
     "execution_count": 161,
     "metadata": {},
     "output_type": "execute_result"
    },
    {
     "data": {
      "image/png": "[encoded data removed]",
      "text/plain": [
       "<matplotlib.figure.Figure at 0x18f894198>"
      ]
     },
     "metadata": {},
     "output_type": "display_data"
    }
   ],
   "source": [
    "query = \\\n",
    "\"\"\"\n",
    "SELECT * FROM noteevents\n",
    "WHERE category = 'Echo';\n",
    "\"\"\"\n",
    "\n",
    "all_echos = pd.read_sql_query(query, con)\n",
    "all_echos['subject_id'].value_counts().value_counts().sort_index().plot(kind = 'bar')\n",
    "plt.xlabel('Number of echos')\n",
    "plt.ylabel('Number of patients')"
   ]
  },
  {
   "cell_type": "markdown",
   "metadata": {},
   "source": [
    "## Number of patients on dialysis\n",
    "\n",
    "What is the best way of finding out if a patient is on dialysis? Some possibilities: \n",
    "+ Look in procedures_icd as when looking for sepsis, (inner join on hadm_id) for icd9_code 3895 (ven cath renal dialysis)\n",
    "+ Look in procedureevents_mv (inner join on icustay_id) where item_id has category 'Dialysis' (metavision only)\n",
    "+ Look in inputevents_cv/inputevents_mv or output_events, matching on 'Dialysis' \n",
    "    \n",
    "### Look in procedures_icd"
   ]
  },
  {
   "cell_type": "code",
   "execution_count": 168,
   "metadata": {
    "collapsed": false
   },
   "outputs": [
    {
     "data": {
      "text/html": [
       "<div>\n",
       "<table border=\"1\" class=\"dataframe\">\n",
       "  <thead>\n",
       "    <tr style=\"text-align: right;\">\n",
       "      <th></th>\n",
       "      <th>row_id</th>\n",
       "      <th>icd9_code</th>\n",
       "      <th>short_title</th>\n",
       "      <th>long_title</th>\n",
       "    </tr>\n",
       "  </thead>\n",
       "  <tbody>\n",
       "    <tr>\n",
       "      <th>0</th>\n",
       "      <td>739</td>\n",
       "      <td>3927</td>\n",
       "      <td>Dialysis arteriovenostom</td>\n",
       "      <td>Arteriovenostomy for renal dialysis</td>\n",
       "    </tr>\n",
       "    <tr>\n",
       "      <th>1</th>\n",
       "      <td>746</td>\n",
       "      <td>3942</td>\n",
       "      <td>Revis ren dialysis shunt</td>\n",
       "      <td>Revision of arteriovenous shunt for renal dial...</td>\n",
       "    </tr>\n",
       "    <tr>\n",
       "      <th>2</th>\n",
       "      <td>747</td>\n",
       "      <td>3943</td>\n",
       "      <td>Remov ren dialysis shunt</td>\n",
       "      <td>Removal of arteriovenous shunt for renal dialysis</td>\n",
       "    </tr>\n",
       "    <tr>\n",
       "      <th>3</th>\n",
       "      <td>803</td>\n",
       "      <td>3895</td>\n",
       "      <td>Ven cath renal dialysis</td>\n",
       "      <td>Venous catheterization for renal dialysis</td>\n",
       "    </tr>\n",
       "    <tr>\n",
       "      <th>4</th>\n",
       "      <td>896</td>\n",
       "      <td>1255</td>\n",
       "      <td>Cyclodialysis</td>\n",
       "      <td>Cyclodialysis</td>\n",
       "    </tr>\n",
       "  </tbody>\n",
       "</table>\n",
       "</div>"
      ],
      "text/plain": [
       "   row_id icd9_code               short_title  \\\n",
       "0     739      3927  Dialysis arteriovenostom   \n",
       "1     746      3942  Revis ren dialysis shunt   \n",
       "2     747      3943  Remov ren dialysis shunt   \n",
       "3     803      3895   Ven cath renal dialysis   \n",
       "4     896      1255             Cyclodialysis   \n",
       "\n",
       "                                          long_title  \n",
       "0                Arteriovenostomy for renal dialysis  \n",
       "1  Revision of arteriovenous shunt for renal dial...  \n",
       "2  Removal of arteriovenous shunt for renal dialysis  \n",
       "3          Venous catheterization for renal dialysis  \n",
       "4                                      Cyclodialysis  "
      ]
     },
     "execution_count": 168,
     "metadata": {},
     "output_type": "execute_result"
    }
   ],
   "source": [
    "query = \\\n",
    "\"\"\"\n",
    "SELECT * \n",
    "FROM d_icd_procedures dps\n",
    "WHERE dps.long_title ~* '.*ialy.*';\n",
    "--WHERE dps.icd9_code IN ('3895', '1255')\n",
    "\"\"\"\n",
    "\n",
    "res = pd.read_sql_query(query, con)\n",
    "res.head()"
   ]
  },
  {
   "cell_type": "code",
   "execution_count": 169,
   "metadata": {
    "collapsed": false
   },
   "outputs": [
    {
     "data": {
      "text/html": [
       "<div>\n",
       "<table border=\"1\" class=\"dataframe\">\n",
       "  <thead>\n",
       "    <tr style=\"text-align: right;\">\n",
       "      <th></th>\n",
       "      <th>hadm_id</th>\n",
       "      <th>short_title</th>\n",
       "    </tr>\n",
       "  </thead>\n",
       "  <tbody>\n",
       "    <tr>\n",
       "      <th>0</th>\n",
       "      <td>172648</td>\n",
       "      <td>Ven cath renal dialysis</td>\n",
       "    </tr>\n",
       "    <tr>\n",
       "      <th>1</th>\n",
       "      <td>181171</td>\n",
       "      <td>Ven cath renal dialysis</td>\n",
       "    </tr>\n",
       "    <tr>\n",
       "      <th>2</th>\n",
       "      <td>162994</td>\n",
       "      <td>Ven cath renal dialysis</td>\n",
       "    </tr>\n",
       "    <tr>\n",
       "      <th>3</th>\n",
       "      <td>191476</td>\n",
       "      <td>Ven cath renal dialysis</td>\n",
       "    </tr>\n",
       "    <tr>\n",
       "      <th>4</th>\n",
       "      <td>184235</td>\n",
       "      <td>Ven cath renal dialysis</td>\n",
       "    </tr>\n",
       "  </tbody>\n",
       "</table>\n",
       "</div>"
      ],
      "text/plain": [
       "   hadm_id              short_title\n",
       "0   172648  Ven cath renal dialysis\n",
       "1   181171  Ven cath renal dialysis\n",
       "2   162994  Ven cath renal dialysis\n",
       "3   191476  Ven cath renal dialysis\n",
       "4   184235  Ven cath renal dialysis"
      ]
     },
     "execution_count": 169,
     "metadata": {},
     "output_type": "execute_result"
    }
   ],
   "source": [
    "query = \\\n",
    "\"\"\"\n",
    "SELECT ps.hadm_id, dps.short_title\n",
    "FROM procedures_icd ps\n",
    "INNER JOIN d_icd_procedures dps\n",
    "    ON ps.icd9_code = dps.icd9_code\n",
    "WHERE dps.icd9_code = '3895';\n",
    "\"\"\"\n",
    "\n",
    "dialysis = pd.read_sql_query(query, con)\n",
    "dialysis.head()"
   ]
  },
  {
   "cell_type": "markdown",
   "metadata": {},
   "source": [
    "Number of ICU echos where the same hospital admssion id is associated with the procedure ven cath renal dialysis"
   ]
  },
  {
   "cell_type": "code",
   "execution_count": 172,
   "metadata": {
    "collapsed": false
   },
   "outputs": [
    {
     "data": {
      "text/plain": [
       "917"
      ]
     },
     "execution_count": 172,
     "metadata": {},
     "output_type": "execute_result"
    }
   ],
   "source": [
    "len(set(dialysis['hadm_id']) & set(icu_echos['hadm_id']))"
   ]
  },
  {
   "cell_type": "markdown",
   "metadata": {},
   "source": [
    "## Number of patients on ventilator\n",
    "\n",
    "Additionally, to find patients on ventilation: \n",
    "\n",
    "+ Look in cptevents (\"useful for determining if certain procedures have been performed, e.g. ventilation\"). Also see important considerations.\n",
    "+ Note that in determining sepsis, procedured_icd is used\n",
    "\n",
    "Note that cptevents also has a chartdate, which means that it should be possible to check, for example, if the ventilation ocurred at all during the icu_stay where the echo was done. "
   ]
  },
  {
   "cell_type": "code",
   "execution_count": 174,
   "metadata": {
    "collapsed": false
   },
   "outputs": [
    {
     "data": {
      "text/html": [
       "<div>\n",
       "<table border=\"1\" class=\"dataframe\">\n",
       "  <thead>\n",
       "    <tr style=\"text-align: right;\">\n",
       "      <th></th>\n",
       "      <th>description</th>\n",
       "      <th>chartdate</th>\n",
       "      <th>hadm_id</th>\n",
       "    </tr>\n",
       "  </thead>\n",
       "  <tbody>\n",
       "    <tr>\n",
       "      <th>0</th>\n",
       "      <td>VENT MGMT;SUBSQ DAYS(INVASIVE)</td>\n",
       "      <td>2177-11-26</td>\n",
       "      <td>181695</td>\n",
       "    </tr>\n",
       "    <tr>\n",
       "      <th>1</th>\n",
       "      <td>VENT MGMT;SUBSQ DAYS(INVASIVE)</td>\n",
       "      <td>2177-11-27</td>\n",
       "      <td>181695</td>\n",
       "    </tr>\n",
       "    <tr>\n",
       "      <th>2</th>\n",
       "      <td>VENT MGMT;SUBSQ DAYS(INVASIVE)</td>\n",
       "      <td>2177-11-28</td>\n",
       "      <td>181695</td>\n",
       "    </tr>\n",
       "    <tr>\n",
       "      <th>3</th>\n",
       "      <td>VENT MGMT;SUBSQ DAYS(INVASIVE)</td>\n",
       "      <td>2177-11-29</td>\n",
       "      <td>181695</td>\n",
       "    </tr>\n",
       "    <tr>\n",
       "      <th>4</th>\n",
       "      <td>VENT MGMT;SUBSQ DAYS(INVASIVE)</td>\n",
       "      <td>2177-11-30</td>\n",
       "      <td>181695</td>\n",
       "    </tr>\n",
       "  </tbody>\n",
       "</table>\n",
       "</div>"
      ],
      "text/plain": [
       "                      description  chartdate  hadm_id\n",
       "0  VENT MGMT;SUBSQ DAYS(INVASIVE) 2177-11-26   181695\n",
       "1  VENT MGMT;SUBSQ DAYS(INVASIVE) 2177-11-27   181695\n",
       "2  VENT MGMT;SUBSQ DAYS(INVASIVE) 2177-11-28   181695\n",
       "3  VENT MGMT;SUBSQ DAYS(INVASIVE) 2177-11-29   181695\n",
       "4  VENT MGMT;SUBSQ DAYS(INVASIVE) 2177-11-30   181695"
      ]
     },
     "execution_count": 174,
     "metadata": {},
     "output_type": "execute_result"
    }
   ],
   "source": [
    "query = \\\n",
    "\"\"\"\n",
    "SELECT ce.description, ce.chartdate, ce.hadm_id\n",
    "FROM cptevents ce\n",
    "WHERE ce.description ~* '.*vent.*'\n",
    "\"\"\"\n",
    "vent = pd.read_sql_query(query, con)\n",
    "vent.head()"
   ]
  },
  {
   "cell_type": "code",
   "execution_count": 175,
   "metadata": {
    "collapsed": false
   },
   "outputs": [
    {
     "data": {
      "text/plain": [
       "8768"
      ]
     },
     "execution_count": 175,
     "metadata": {},
     "output_type": "execute_result"
    }
   ],
   "source": [
    "len(set(vent['hadm_id']) & set(icu_echos['hadm_id']))"
   ]
  },
  {
   "cell_type": "markdown",
   "metadata": {},
   "source": [
    "## Diagnoses for ICU admission\n",
    "\n",
    "Diagnoses can only be joined to noteevents via hadm_id, and there are no time stamps associated, so it is unclear how to link to a specific ICU stay. I can however grab all the diagnoses associated with a hadm_id. "
   ]
  },
  {
   "cell_type": "code",
   "execution_count": 256,
   "metadata": {
    "collapsed": false
   },
   "outputs": [
    {
     "data": {
      "text/html": [
       "<div>\n",
       "<table border=\"1\" class=\"dataframe\">\n",
       "  <thead>\n",
       "    <tr style=\"text-align: right;\">\n",
       "      <th></th>\n",
       "      <th>hadm_id</th>\n",
       "      <th>short_title</th>\n",
       "      <th>long_title</th>\n",
       "    </tr>\n",
       "  </thead>\n",
       "  <tbody>\n",
       "    <tr>\n",
       "      <th>0</th>\n",
       "      <td>136025</td>\n",
       "      <td>Aortocoronary bypass</td>\n",
       "      <td>Aortocoronary bypass status</td>\n",
       "    </tr>\n",
       "    <tr>\n",
       "      <th>1</th>\n",
       "      <td>136025</td>\n",
       "      <td>Hyperlipidemia NEC/NOS</td>\n",
       "      <td>Other and unspecified hyperlipidemia</td>\n",
       "    </tr>\n",
       "    <tr>\n",
       "      <th>2</th>\n",
       "      <td>136025</td>\n",
       "      <td>Hypertension NOS</td>\n",
       "      <td>Unspecified essential hypertension</td>\n",
       "    </tr>\n",
       "    <tr>\n",
       "      <th>3</th>\n",
       "      <td>136025</td>\n",
       "      <td>Esophageal reflux</td>\n",
       "      <td>Esophageal reflux</td>\n",
       "    </tr>\n",
       "    <tr>\n",
       "      <th>4</th>\n",
       "      <td>136025</td>\n",
       "      <td>DMII wo cmp nt st uncntr</td>\n",
       "      <td>Diabetes mellitus without mention of complicat...</td>\n",
       "    </tr>\n",
       "  </tbody>\n",
       "</table>\n",
       "</div>"
      ],
      "text/plain": [
       "   hadm_id               short_title  \\\n",
       "0   136025      Aortocoronary bypass   \n",
       "1   136025    Hyperlipidemia NEC/NOS   \n",
       "2   136025          Hypertension NOS   \n",
       "3   136025         Esophageal reflux   \n",
       "4   136025  DMII wo cmp nt st uncntr   \n",
       "\n",
       "                                          long_title  \n",
       "0                        Aortocoronary bypass status  \n",
       "1               Other and unspecified hyperlipidemia  \n",
       "2                 Unspecified essential hypertension  \n",
       "3                                  Esophageal reflux  \n",
       "4  Diabetes mellitus without mention of complicat...  "
      ]
     },
     "execution_count": 256,
     "metadata": {},
     "output_type": "execute_result"
    }
   ],
   "source": [
    "query = \\\n",
    "\"\"\"\n",
    "SELECT ne.hadm_id, ddg.short_title, ddg.long_title\n",
    "FROM noteevents ne\n",
    "INNER JOIN diagnoses_icd dg\n",
    "    ON ne.hadm_id = dg.hadm_id\n",
    "INNER JOIN d_icd_diagnoses ddg\n",
    "    ON dg.icd9_code = ddg.icd9_code\n",
    "WHERE ne.category = 'Echo'\n",
    "\"\"\"\n",
    "\n",
    "data = pd.read_sql_query(query, con)\n",
    "data.head()"
   ]
  },
  {
   "cell_type": "code",
   "execution_count": 258,
   "metadata": {
    "collapsed": false
   },
   "outputs": [
    {
     "data": {
      "text/plain": [
       "Hypertension NOS            13747\n",
       "CHF NOS                     12907\n",
       "Atrial fibrillation         11929\n",
       "Crnry athrscl natve vssl    11573\n",
       "Acute kidney failure NOS     7671\n",
       "Hyperlipidemia NEC/NOS       7288\n",
       "Acute respiratry failure     6679\n",
       "DMII wo cmp nt st uncntr     6477\n",
       "Urin tract infection NOS     4961\n",
       "Anemia NOS                   4394\n",
       "Name: short_title, dtype: int64"
      ]
     },
     "execution_count": 258,
     "metadata": {},
     "output_type": "execute_result"
    }
   ],
   "source": [
    "data['short_title'].value_counts().head(n = 10)"
   ]
  },
  {
   "cell_type": "code",
   "execution_count": null,
   "metadata": {
    "collapsed": true
   },
   "outputs": [],
   "source": []
  }
 ],
 "metadata": {
  "anaconda-cloud": {},
  "kernelspec": {
   "display_name": "Python [Root]",
   "language": "python",
   "name": "Python [Root]"
  },
  "language_info": {
   "codemirror_mode": {
    "name": "ipython",
    "version": 3
   },
   "file_extension": ".py",
   "mimetype": "text/x-python",
   "name": "python",
   "nbconvert_exporter": "python",
   "pygments_lexer": "ipython3",
   "version": "3.5.2"
  }
 },
 "nbformat": 4,
 "nbformat_minor": 0
}
